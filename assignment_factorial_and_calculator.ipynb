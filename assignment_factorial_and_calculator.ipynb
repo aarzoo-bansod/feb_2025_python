{
 "cells": [
  {
   "cell_type": "code",
   "execution_count": 22,
   "id": "9e99c300-e9d2-43e9-9179-6c0c9b7aeb85",
   "metadata": {},
   "outputs": [
    {
     "data": {
      "text/plain": [
       "120"
      ]
     },
     "execution_count": 22,
     "metadata": {},
     "output_type": "execute_result"
    }
   ],
   "source": [
    "def fact(n):\n",
    "    if n==0:\n",
    "        return 1  \n",
    "    else:\n",
    "        return (n*fact(n - 1))  \n",
    "\n",
    "n=fact(5)\n",
    "n"
   ]
  },
  {
   "cell_type": "code",
   "execution_count": 49,
   "id": "cce2ab82-1acd-4226-b3db-b9c9bbd4bf82",
   "metadata": {},
   "outputs": [
    {
     "name": "stdout",
     "output_type": "stream",
     "text": [
      "enter 1 for addition\n",
      "enter 2 for multiplication\n",
      "enter 3 for subtraction\n",
      "enter 4 for division\n"
     ]
    },
    {
     "name": "stdin",
     "output_type": "stream",
     "text": [
      "enter number between 1 to 4 2\n",
      "enter the 1st number to multiply 15\n",
      "enter the 2nd number to multiply 5\n"
     ]
    },
    {
     "name": "stdout",
     "output_type": "stream",
     "text": [
      "answer is: 75\n"
     ]
    }
   ],
   "source": [
    "def ADD(a,b):\n",
    "    return a+b\n",
    "\n",
    "def MUL(a,b):\n",
    "    return a*b\n",
    "\n",
    "def SUB(a,b):\n",
    "    return a-b\n",
    "\n",
    "def DIV(a,b):\n",
    "    return a/b\n",
    "\n",
    "print('enter 1 for addition')\n",
    "print('enter 2 for multiplication')\n",
    "print('enter 3 for subtraction')\n",
    "print('enter 4 for division')\n",
    "\n",
    "def main():\n",
    "    option=eval(input('enter number between 1 to 4'))\n",
    "    if option==1:\n",
    "        a=eval(input('enter the 1st number to add'))\n",
    "        b=eval(input('enter the 2nd number to add'))\n",
    "        summ=ADD(a,b)\n",
    "        print(f'answer is: {summ}')\n",
    "    elif option==2:\n",
    "        a=eval(input('enter the 1st number to multiply'))\n",
    "        b=eval(input('enter the 2nd number to multiply'))\n",
    "        multiply=MUL(a,b)\n",
    "        print(f'answer is: {multiply}')\n",
    "    elif option==3:\n",
    "        a=eval(input('enter the 1st number to subtract'))\n",
    "        b=eval(input('enter the 2nd number to subtract'))\n",
    "        subt=SUB(a,b)\n",
    "        print(f'answer is: {subt}')\n",
    "    elif option==4:\n",
    "        a=eval(input('enter the 1st number to divide'))\n",
    "        b=eval(input('enter the 2nd number to divide'))\n",
    "        division=DIV(a,b)\n",
    "        print(f'answer is: {division}')\n",
    "    else:\n",
    "        print('entry is invalid')\n",
    "\n",
    "main()\n",
    "\n",
    "\n",
    "\n"
   ]
  },
  {
   "cell_type": "code",
   "execution_count": null,
   "id": "8080eff2-ae22-425a-8f82-4578b3deffca",
   "metadata": {},
   "outputs": [],
   "source": []
  }
 ],
 "metadata": {
  "kernelspec": {
   "display_name": "Python 3 (ipykernel)",
   "language": "python",
   "name": "python3"
  },
  "language_info": {
   "codemirror_mode": {
    "name": "ipython",
    "version": 3
   },
   "file_extension": ".py",
   "mimetype": "text/x-python",
   "name": "python",
   "nbconvert_exporter": "python",
   "pygments_lexer": "ipython3",
   "version": "3.12.7"
  }
 },
 "nbformat": 4,
 "nbformat_minor": 5
}
