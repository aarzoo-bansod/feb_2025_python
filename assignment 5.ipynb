{
 "cells": [
  {
   "cell_type": "code",
   "execution_count": 9,
   "id": "496e751e-257e-4538-8df7-58b6f6d20e6c",
   "metadata": {},
   "outputs": [
    {
     "name": "stdin",
     "output_type": "stream",
     "text": [
      "enter the basic salary of ramesh: 5000\n"
     ]
    },
    {
     "name": "stdout",
     "output_type": "stream",
     "text": [
      "gross salary of ramesh is: 8000.0\n"
     ]
    }
   ],
   "source": [
    "try:\n",
    "    basic=eval(input('enter the basic salary of ramesh:'))\n",
    "    da=0.4*basic\n",
    "    ha=0.2*basic\n",
    "    gross_salary=basic+da+ha\n",
    "    print(f'gross salary of ramesh is: {gross_salary}')\n",
    "except Exception as e:\n",
    "    print(e)"
   ]
  },
  {
   "cell_type": "code",
   "execution_count": 11,
   "id": "fecb2671-cbce-4802-8eca-2ab7cfcc18c6",
   "metadata": {},
   "outputs": [
    {
     "name": "stdin",
     "output_type": "stream",
     "text": [
      "distance of 1st city in kms: 89\n",
      "distance of 2nd city in kms: 14\n"
     ]
    },
    {
     "name": "stdout",
     "output_type": "stream",
     "text": [
      "distance of two cities in meters: 75000\n",
      "distance of two cities in feet: 246063.0\n",
      "distance of two cities in inches: 2952757.5\n",
      "distance of two cities in centimeters: 7500000\n"
     ]
    }
   ],
   "source": [
    "try:\n",
    "    city1=eval(input('distance of 1st city in kms:'))\n",
    "    city2=eval(input('distance of 2nd city in kms:'))\n",
    "    distance=city1-city2\n",
    "    m=distance*1000\n",
    "    f=distance*3280.84\n",
    "    i=distance*39370.1\n",
    "    c=distance*100000\n",
    "    print(f'distance of two cities in meters: {m}')\n",
    "    print(f'distance of two cities in feet: {f}')\n",
    "    print(f'distance of two cities in inches: {i}')\n",
    "    print(f'distance of two cities in centimeters: {c}')\n",
    "except Exception as e:\n",
    "    print(e)     "
   ]
  },
  {
   "cell_type": "code",
   "execution_count": 16,
   "id": "e82648e9-9fcc-4f67-aeb2-b4bc364d2564",
   "metadata": {},
   "outputs": [
    {
     "name": "stdin",
     "output_type": "stream",
     "text": [
      "marks in science 55\n",
      "marks in social science 78\n",
      "marks in maths 89\n",
      "marks in hindi 44\n",
      "marks in english 15\n"
     ]
    },
    {
     "name": "stdout",
     "output_type": "stream",
     "text": [
      "total marks in all subjects: 281\n",
      "aggregrate marks is: 56.2\n",
      "percentage is: 56.2%\n"
     ]
    }
   ],
   "source": [
    "try:\n",
    "    science=eval(input('marks in science'))\n",
    "    social_science=eval(input('marks in social science'))\n",
    "    maths=eval(input('marks in maths'))\n",
    "    hindi=eval(input('marks in hindi'))\n",
    "    english=eval(input('marks in english'))\n",
    "    total_marks=science+social_science+hindi+english+maths\n",
    "    aggregrate=total_marks/5\n",
    "    per=total_marks/500*100\n",
    "    print(f'total marks in all subjects: {total_marks}')\n",
    "    print(f'aggregrate marks is: {aggregrate}')\n",
    "    print(f'percentage is: {per}%')\n",
    "except Exception as e:\n",
    "    print(e)     "
   ]
  },
  {
   "cell_type": "code",
   "execution_count": 20,
   "id": "891a15fa-f384-4c6b-8986-7ec9b081957a",
   "metadata": {},
   "outputs": [
    {
     "name": "stdin",
     "output_type": "stream",
     "text": [
      "enter the temperature of city in Fahrenheit degrees: 56\n"
     ]
    },
    {
     "name": "stdout",
     "output_type": "stream",
     "text": [
      "temperature into celsius is: 38.22\n"
     ]
    }
   ],
   "source": [
    "try:\n",
    "    temp=eval(input('enter the temperature of city in Fahrenheit degrees:'))\n",
    "    celsius=round(temp-32/1.8,2)\n",
    "    print(f'temperature into celsius is: {celsius}')\n",
    "except Exception as e:\n",
    "    print(e)   "
   ]
  },
  {
   "cell_type": "code",
   "execution_count": 22,
   "id": "67e7862c-3852-4712-8ac6-9093cc0ee4e7",
   "metadata": {},
   "outputs": [
    {
     "name": "stdin",
     "output_type": "stream",
     "text": [
      "enter the length of the rectangle: 15\n",
      "enter the breadth of the rectangle: 20\n"
     ]
    },
    {
     "name": "stdout",
     "output_type": "stream",
     "text": [
      "area of rectangle is: 300 and perimeter of rectangle is: 70\n"
     ]
    },
    {
     "name": "stdin",
     "output_type": "stream",
     "text": [
      "enter the radius of the circle: 55\n"
     ]
    },
    {
     "name": "stdout",
     "output_type": "stream",
     "text": [
      "area of circle is: 9498.5 and circumference of circle is: 345.4\n"
     ]
    }
   ],
   "source": [
    "try:\n",
    "    length=eval(input('enter the length of the rectangle:'))\n",
    "    breadth=eval(input('enter the breadth of the rectangle:'))\n",
    "    area=length*breadth\n",
    "    perimeter=2*(length+breadth)\n",
    "    print(f'area of rectangle is: {area} and perimeter of rectangle is: {perimeter}')\n",
    "\n",
    "    r=eval(input('enter the radius of the circle:'))\n",
    "    area_circle=round(3.14*r*r,2)\n",
    "    cir=round(2*3.14*r,2)\n",
    "    print(f'area of circle is: {area_circle} and circumference of circle is: {cir}')\n",
    "except Exception as e:\n",
    "    print(e)  "
   ]
  },
  {
   "cell_type": "code",
   "execution_count": 30,
   "id": "c8f0832d-4bf5-4792-af69-2a48ab68a394",
   "metadata": {},
   "outputs": [
    {
     "name": "stdin",
     "output_type": "stream",
     "text": [
      "enter the number in C location: 5\n",
      "enter the number in D location: 8\n"
     ]
    },
    {
     "name": "stdout",
     "output_type": "stream",
     "text": [
      "interchange value is: 8, 5\n"
     ]
    }
   ],
   "source": [
    "try:\n",
    "    c=eval(input('enter the number in C location:'))\n",
    "    d=eval(input('enter the number in D location:'))\n",
    "    c1=c\n",
    "    d1=d\n",
    "    \n",
    "    c=d1\n",
    "    d=c1\n",
    "    print(f'interchange value is: {c}, {d}')\n",
    "except Exception as e:\n",
    "    print(e)  "
   ]
  },
  {
   "cell_type": "code",
   "execution_count": 32,
   "id": "de80a8be-721a-42b5-b89a-7d02d3d9dd02",
   "metadata": {},
   "outputs": [
    {
     "name": "stdin",
     "output_type": "stream",
     "text": [
      "enter the 1st number: 5\n",
      "enter the 2nd number: 8\n",
      "enter the 3rd number: 3\n",
      "enter the 4th number: 0\n",
      "enter the 5th number: 9\n"
     ]
    },
    {
     "name": "stdout",
     "output_type": "stream",
     "text": [
      "reverse of numbers is: 9, 0, 3, 8, 5\n"
     ]
    }
   ],
   "source": [
    "try:\n",
    "    one=eval(input('enter the 1st number:'))\n",
    "    two=eval(input('enter the 2nd number:'))\n",
    "    three=eval(input('enter the 3rd number:'))\n",
    "    four=eval(input('enter the 4th number:'))\n",
    "    five=eval(input('enter the 5th number:'))\n",
    "    first=one\n",
    "    second=two\n",
    "    third=three\n",
    "    fourth=four\n",
    "    fifth=five\n",
    "    \n",
    "    one=fifth\n",
    "    two=fourth\n",
    "    three=third\n",
    "    four=second\n",
    "    five=first\n",
    "    print(f'reverse of numbers is: {one}, {two}, {three}, {four}, {five}')\n",
    "except Exception as e:\n",
    "    print(e) "
   ]
  },
  {
   "cell_type": "code",
   "execution_count": 34,
   "id": "37e9539f-625b-4fbe-bfd4-e252538772be",
   "metadata": {},
   "outputs": [],
   "source": [
    "import time"
   ]
  },
  {
   "cell_type": "code",
   "execution_count": 36,
   "id": "00dd18e9-3bd7-4697-8a69-a8f8629aca91",
   "metadata": {},
   "outputs": [
    {
     "name": "stdin",
     "output_type": "stream",
     "text": [
      "enter the 1st number: 5\n",
      "enter the 2nd number: 7\n",
      "enter the 3rd number: 6\n",
      "enter the 4th number: 8\n"
     ]
    },
    {
     "name": "stdout",
     "output_type": "stream",
     "text": [
      "5768\n",
      "sum of 1st and 4th digit number is: 13\n"
     ]
    }
   ],
   "source": [
    "try:\n",
    "    one=eval(input('enter the 1st number:'))\n",
    "    two=eval(input('enter the 2nd number:'))\n",
    "    three=eval(input('enter the 3rd number:'))\n",
    "    four=eval(input('enter the 4th number:'))\n",
    "    print(f'{one}{two}{three}{four}')\n",
    "    time.sleep(3)\n",
    "    sum=one+four\n",
    "    print(f'sum of 1st and 4th digit number is: {sum}')\n",
    "except Exception as e:\n",
    "    print(e)   "
   ]
  },
  {
   "cell_type": "code",
   "execution_count": 40,
   "id": "05f9a7fb-8e29-4414-84e4-cde7a0cfc584",
   "metadata": {},
   "outputs": [
    {
     "name": "stdout",
     "output_type": "stream",
     "text": [
      "total number of illiterate men is: 13600.0 and women is: 24800.0\n"
     ]
    }
   ],
   "source": [
    "try:\n",
    "    population=80000\n",
    "    men=0.52*population\n",
    "    literacy=0.48*population\n",
    "    men_literacy=0.35*population\n",
    "    total_men_literacy=men-men_literacy\n",
    "    total_women_literacy=literacy-total_men_literacy\n",
    "    print(f'total number of illiterate men is: {total_men_literacy} and women is: {total_women_literacy}')\n",
    "except Exception as e:\n",
    "    print(e)   "
   ]
  },
  {
   "cell_type": "code",
   "execution_count": null,
   "id": "56b46da8-42e4-4cc3-97d5-6ee77dfcf683",
   "metadata": {},
   "outputs": [],
   "source": []
  }
 ],
 "metadata": {
  "kernelspec": {
   "display_name": "Python 3 (ipykernel)",
   "language": "python",
   "name": "python3"
  },
  "language_info": {
   "codemirror_mode": {
    "name": "ipython",
    "version": 3
   },
   "file_extension": ".py",
   "mimetype": "text/x-python",
   "name": "python",
   "nbconvert_exporter": "python",
   "pygments_lexer": "ipython3",
   "version": "3.12.7"
  }
 },
 "nbformat": 4,
 "nbformat_minor": 5
}
