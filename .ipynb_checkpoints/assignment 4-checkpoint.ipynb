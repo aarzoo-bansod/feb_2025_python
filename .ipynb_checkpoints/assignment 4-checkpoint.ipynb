{
 "cells": [
  {
   "cell_type": "code",
   "execution_count": 3,
   "id": "9650a197-2205-4d13-b0a5-79ded0ef9854",
   "metadata": {},
   "outputs": [
    {
     "name": "stdin",
     "output_type": "stream",
     "text": [
      "enter the 1st number: sdef\n"
     ]
    },
    {
     "name": "stdout",
     "output_type": "stream",
     "text": [
      "name 'sdef' is not defined\n"
     ]
    }
   ],
   "source": [
    "try:\n",
    "    n1=eval(input('enter the 1st number:'))\n",
    "    n2=eval(input('enter the 2nd number:'))\n",
    "    if n1==n2:\n",
    "        print('we are won')\n",
    "    else:\n",
    "        print('we lost')\n",
    "except Exception as e:\n",
    "    print(e)"
   ]
  },
  {
   "cell_type": "code",
   "execution_count": 10,
   "id": "d8d1c637-605b-4a31-ac40-a46d1b07c671",
   "metadata": {},
   "outputs": [],
   "source": [
    "import random"
   ]
  },
  {
   "cell_type": "code",
   "execution_count": 12,
   "id": "9b356ac8-9345-4bff-aaa4-1f42fd960302",
   "metadata": {},
   "outputs": [
    {
     "name": "stdin",
     "output_type": "stream",
     "text": [
      "take one number 5\n"
     ]
    },
    {
     "name": "stdout",
     "output_type": "stream",
     "text": [
      "we lost\n"
     ]
    }
   ],
   "source": [
    "try:\n",
    "    n1=eval(input('take one number'))\n",
    "    n2=random.randint(1,10)\n",
    "    if n1==n2:\n",
    "        print('we are won')\n",
    "    else:\n",
    "        print('we lost')\n",
    "except Exception as e:\n",
    "    print(e)\n",
    "    "
   ]
  },
  {
   "cell_type": "code",
   "execution_count": 16,
   "id": "9d61ec99-f9d0-4466-a68f-041777f7b1de",
   "metadata": {},
   "outputs": [
    {
     "name": "stdin",
     "output_type": "stream",
     "text": [
      "enter the number 89\n"
     ]
    },
    {
     "name": "stdout",
     "output_type": "stream",
     "text": [
      "number is odd\n"
     ]
    }
   ],
   "source": [
    "try:\n",
    "    n1=eval(input('enter the number'))\n",
    "    if n1%2==0:\n",
    "        print('number is even')\n",
    "    else:\n",
    "        print('number is odd')\n",
    "except Exception as e:\n",
    "    print(e)        "
   ]
  },
  {
   "cell_type": "code",
   "execution_count": 22,
   "id": "4a7d393f-6820-455b-9170-f414cbeffafc",
   "metadata": {},
   "outputs": [
    {
     "name": "stdin",
     "output_type": "stream",
     "text": [
      "enter the distance in km: 50\n",
      "enter the free distance by gov: 20\n",
      "enter the charge: 10\n"
     ]
    },
    {
     "name": "stdout",
     "output_type": "stream",
     "text": [
      "total charge is: 300\n"
     ]
    }
   ],
   "source": [
    "try:\n",
    "    dis=eval(input('enter the distance in km:'))\n",
    "    free=eval(input('enter the free distance by gov:'))\n",
    "    if dis>25:\n",
    "        charge=eval(input('enter the charge:'))\n",
    "        actual_distance=dis-free\n",
    "        total_distance=actual_distance*charge\n",
    "        print(f'total charge is: {total_distance}')\n",
    "    else:\n",
    "        print('free ride')\n",
    "except Exception as e:\n",
    "    print(e)\n"
   ]
  },
  {
   "cell_type": "code",
   "execution_count": 26,
   "id": "64ceb4b4-c121-426d-b598-9fc6a49137f3",
   "metadata": {},
   "outputs": [
    {
     "name": "stdin",
     "output_type": "stream",
     "text": [
      "enter 1st number: 20\n",
      "enter 2nd number: 50\n"
     ]
    },
    {
     "name": "stdout",
     "output_type": "stream",
     "text": [
      "2nd number is greatest which is: 50\n"
     ]
    }
   ],
   "source": [
    "try:\n",
    "    n1=eval(input('enter 1st number:'))\n",
    "    n2=eval(input('enter 2nd number:'))\n",
    "    if n1>n2:\n",
    "        print(f'1st number 1st greatest which is: {n1}')\n",
    "    else:\n",
    "        print(f'2nd number is greatest which is: {n2}')\n",
    "except Exception as e:\n",
    "    print(e)\n"
   ]
  },
  {
   "cell_type": "code",
   "execution_count": 30,
   "id": "431832b6-0440-4246-8174-2e4c16321f2b",
   "metadata": {},
   "outputs": [
    {
     "name": "stdin",
     "output_type": "stream",
     "text": [
      "enter the course name data science\n",
      "enter the institute name naresh it\n"
     ]
    },
    {
     "name": "stdout",
     "output_type": "stream",
     "text": [
      "we are good\n"
     ]
    }
   ],
   "source": [
    "try:\n",
    "    course=input('enter the course name')\n",
    "    institute=input('enter the institute name')\n",
    "    if course=='data science' and institute=='naresh it':\n",
    "        print('we are good')\n",
    "    else:\n",
    "        print('not good')\n",
    "except Exception as e:\n",
    "    print(e)\n"
   ]
  },
  {
   "cell_type": "code",
   "execution_count": null,
   "id": "7577fd1e-5b43-4841-a141-e4dea3237a54",
   "metadata": {},
   "outputs": [],
   "source": []
  }
 ],
 "metadata": {
  "kernelspec": {
   "display_name": "Python 3 (ipykernel)",
   "language": "python",
   "name": "python3"
  },
  "language_info": {
   "codemirror_mode": {
    "name": "ipython",
    "version": 3
   },
   "file_extension": ".py",
   "mimetype": "text/x-python",
   "name": "python",
   "nbconvert_exporter": "python",
   "pygments_lexer": "ipython3",
   "version": "3.12.7"
  }
 },
 "nbformat": 4,
 "nbformat_minor": 5
}
