{
 "cells": [
  {
   "cell_type": "markdown",
   "id": "390fd158-f05c-4f67-ae37-8fdd3c31fa88",
   "metadata": {},
   "source": [
    "#do not overaction\n",
    "-only action \n",
    "-listen the class properly\n",
    "-chat with chatgpt"
   ]
  },
  {
   "cell_type": "code",
   "execution_count": null,
   "id": "d22f7f65-4ddb-4c87-b747-71df5bc18adf",
   "metadata": {},
   "outputs": [],
   "source": []
  },
  {
   "cell_type": "code",
   "execution_count": 2,
   "id": "9d0989ee-b48e-4b26-a676-e0a150106bb4",
   "metadata": {},
   "outputs": [
    {
     "data": {
      "text/plain": [
       "['BPF',\n",
       " 'LOG4',\n",
       " 'NV_MAGICCONST',\n",
       " 'RECIP_BPF',\n",
       " 'Random',\n",
       " 'SG_MAGICCONST',\n",
       " 'SystemRandom',\n",
       " 'TWOPI',\n",
       " '_ONE',\n",
       " '_Sequence',\n",
       " '__all__',\n",
       " '__builtins__',\n",
       " '__cached__',\n",
       " '__doc__',\n",
       " '__file__',\n",
       " '__loader__',\n",
       " '__name__',\n",
       " '__package__',\n",
       " '__spec__',\n",
       " '_accumulate',\n",
       " '_acos',\n",
       " '_bisect',\n",
       " '_ceil',\n",
       " '_cos',\n",
       " '_e',\n",
       " '_exp',\n",
       " '_fabs',\n",
       " '_floor',\n",
       " '_index',\n",
       " '_inst',\n",
       " '_isfinite',\n",
       " '_lgamma',\n",
       " '_log',\n",
       " '_log2',\n",
       " '_os',\n",
       " '_pi',\n",
       " '_random',\n",
       " '_repeat',\n",
       " '_sha512',\n",
       " '_sin',\n",
       " '_sqrt',\n",
       " '_test',\n",
       " '_test_generator',\n",
       " '_urandom',\n",
       " '_warn',\n",
       " 'betavariate',\n",
       " 'binomialvariate',\n",
       " 'choice',\n",
       " 'choices',\n",
       " 'expovariate',\n",
       " 'gammavariate',\n",
       " 'gauss',\n",
       " 'getrandbits',\n",
       " 'getstate',\n",
       " 'lognormvariate',\n",
       " 'normalvariate',\n",
       " 'paretovariate',\n",
       " 'randbytes',\n",
       " 'randint',\n",
       " 'random',\n",
       " 'randrange',\n",
       " 'sample',\n",
       " 'seed',\n",
       " 'setstate',\n",
       " 'shuffle',\n",
       " 'triangular',\n",
       " 'uniform',\n",
       " 'vonmisesvariate',\n",
       " 'weibullvariate']"
      ]
     },
     "execution_count": 2,
     "metadata": {},
     "output_type": "execute_result"
    }
   ],
   "source": [
    "import random\n",
    "dir(random)"
   ]
  },
  {
   "cell_type": "code",
   "execution_count": 3,
   "id": "2edc91b6-6818-4ffb-8754-e8c504644717",
   "metadata": {},
   "outputs": [
    {
     "data": {
      "text/plain": [
       "8"
      ]
     },
     "execution_count": 3,
     "metadata": {},
     "output_type": "execute_result"
    }
   ],
   "source": [
    "random.randint(1,9)"
   ]
  },
  {
   "cell_type": "code",
   "execution_count": 5,
   "id": "b18d868d-4c38-4b65-8f2f-e64aab3eed8c",
   "metadata": {},
   "outputs": [
    {
     "data": {
      "text/plain": [
       "0.6928994193723783"
      ]
     },
     "execution_count": 5,
     "metadata": {},
     "output_type": "execute_result"
    }
   ],
   "source": [
    "random.random()"
   ]
  },
  {
   "cell_type": "code",
   "execution_count": 35,
   "id": "19129d71-ca36-41f9-82d3-8844256dd93d",
   "metadata": {},
   "outputs": [
    {
     "data": {
      "text/plain": [
       "4"
      ]
     },
     "execution_count": 35,
     "metadata": {},
     "output_type": "execute_result"
    }
   ],
   "source": [
    "sequence=[1,2,3,4]\n",
    "random.choice(sequence)"
   ]
  },
  {
   "cell_type": "code",
   "execution_count": 13,
   "id": "ee7be835-d749-4965-8d75-54adcf5ccee2",
   "metadata": {},
   "outputs": [
    {
     "data": {
      "text/plain": [
       "['red', 'green', 'red']"
      ]
     },
     "execution_count": 13,
     "metadata": {},
     "output_type": "execute_result"
    }
   ],
   "source": [
    "random.sample(['green','red'] ,counts=[2,3],k=3)"
   ]
  },
  {
   "cell_type": "code",
   "execution_count": 14,
   "id": "b4ec9336-8802-4afd-ac96-7ce9f21ab502",
   "metadata": {},
   "outputs": [
    {
     "data": {
      "text/plain": [
       "5"
      ]
     },
     "execution_count": 14,
     "metadata": {},
     "output_type": "execute_result"
    }
   ],
   "source": [
    "random.randrange(5,6 ,step=2)"
   ]
  },
  {
   "cell_type": "code",
   "execution_count": 15,
   "id": "81892783-b210-4dbd-bfc4-39437a1a67ca",
   "metadata": {},
   "outputs": [
    {
     "data": {
      "text/plain": [
       "['__doc__',\n",
       " '__loader__',\n",
       " '__name__',\n",
       " '__package__',\n",
       " '__spec__',\n",
       " 'acos',\n",
       " 'acosh',\n",
       " 'asin',\n",
       " 'asinh',\n",
       " 'atan',\n",
       " 'atan2',\n",
       " 'atanh',\n",
       " 'cbrt',\n",
       " 'ceil',\n",
       " 'comb',\n",
       " 'copysign',\n",
       " 'cos',\n",
       " 'cosh',\n",
       " 'degrees',\n",
       " 'dist',\n",
       " 'e',\n",
       " 'erf',\n",
       " 'erfc',\n",
       " 'exp',\n",
       " 'exp2',\n",
       " 'expm1',\n",
       " 'fabs',\n",
       " 'factorial',\n",
       " 'floor',\n",
       " 'fmod',\n",
       " 'frexp',\n",
       " 'fsum',\n",
       " 'gamma',\n",
       " 'gcd',\n",
       " 'hypot',\n",
       " 'inf',\n",
       " 'isclose',\n",
       " 'isfinite',\n",
       " 'isinf',\n",
       " 'isnan',\n",
       " 'isqrt',\n",
       " 'lcm',\n",
       " 'ldexp',\n",
       " 'lgamma',\n",
       " 'log',\n",
       " 'log10',\n",
       " 'log1p',\n",
       " 'log2',\n",
       " 'modf',\n",
       " 'nan',\n",
       " 'nextafter',\n",
       " 'perm',\n",
       " 'pi',\n",
       " 'pow',\n",
       " 'prod',\n",
       " 'radians',\n",
       " 'remainder',\n",
       " 'sin',\n",
       " 'sinh',\n",
       " 'sqrt',\n",
       " 'sumprod',\n",
       " 'tan',\n",
       " 'tanh',\n",
       " 'tau',\n",
       " 'trunc',\n",
       " 'ulp']"
      ]
     },
     "execution_count": 15,
     "metadata": {},
     "output_type": "execute_result"
    }
   ],
   "source": [
    "import math\n",
    "dir(math)"
   ]
  },
  {
   "cell_type": "code",
   "execution_count": 16,
   "id": "8ca99401-8ed1-4077-b899-6cb181f162b4",
   "metadata": {},
   "outputs": [
    {
     "data": {
      "text/plain": [
       "2.23606797749979"
      ]
     },
     "execution_count": 16,
     "metadata": {},
     "output_type": "execute_result"
    }
   ],
   "source": [
    "math.sqrt(5)"
   ]
  },
  {
   "cell_type": "code",
   "execution_count": 17,
   "id": "175184d2-2c15-407d-a029-2dda3766f4a7",
   "metadata": {},
   "outputs": [
    {
     "ename": "TypeError",
     "evalue": "'float' object is not callable",
     "output_type": "error",
     "traceback": [
      "\u001b[1;31m---------------------------------------------------------------------------\u001b[0m",
      "\u001b[1;31mTypeError\u001b[0m                                 Traceback (most recent call last)",
      "Cell \u001b[1;32mIn[17], line 1\u001b[0m\n\u001b[1;32m----> 1\u001b[0m math\u001b[38;5;241m.\u001b[39mpi()\n",
      "\u001b[1;31mTypeError\u001b[0m: 'float' object is not callable"
     ]
    }
   ],
   "source": [
    "math.pi()"
   ]
  },
  {
   "cell_type": "code",
   "execution_count": 18,
   "id": "dc7fbfca-4b12-49cc-8273-1964a8e58296",
   "metadata": {},
   "outputs": [
    {
     "data": {
      "text/plain": [
       "5"
      ]
     },
     "execution_count": 18,
     "metadata": {},
     "output_type": "execute_result"
    }
   ],
   "source": [
    " math.ceil(5)"
   ]
  },
  {
   "cell_type": "code",
   "execution_count": 19,
   "id": "464582c9-ce23-4292-ba17-78689da3de96",
   "metadata": {},
   "outputs": [
    {
     "data": {
      "text/plain": [
       "2.718281828459045"
      ]
     },
     "execution_count": 19,
     "metadata": {},
     "output_type": "execute_result"
    }
   ],
   "source": [
    "math.e"
   ]
  },
  {
   "cell_type": "code",
   "execution_count": 21,
   "id": "39b23ed5-765d-4502-a545-46c998228bde",
   "metadata": {},
   "outputs": [
    {
     "data": {
      "text/plain": [
       "216.0"
      ]
     },
     "execution_count": 21,
     "metadata": {},
     "output_type": "execute_result"
    }
   ],
   "source": [
    "math.pow(6,3)"
   ]
  },
  {
   "cell_type": "code",
   "execution_count": 22,
   "id": "b4b9faf3-e351-4602-bc74-37c7748d0afa",
   "metadata": {},
   "outputs": [
    {
     "data": {
      "text/plain": [
       "-0.3048106211022167"
      ]
     },
     "execution_count": 22,
     "metadata": {},
     "output_type": "execute_result"
    }
   ],
   "source": [
    "math.sin(60)"
   ]
  },
  {
   "cell_type": "code",
   "execution_count": 23,
   "id": "b74afae9-8033-42fa-9b2e-4673448815f3",
   "metadata": {},
   "outputs": [
    {
     "data": {
      "text/plain": [
       "['_STRUCT_TM_ITEMS',\n",
       " '__doc__',\n",
       " '__loader__',\n",
       " '__name__',\n",
       " '__package__',\n",
       " '__spec__',\n",
       " 'altzone',\n",
       " 'asctime',\n",
       " 'ctime',\n",
       " 'daylight',\n",
       " 'get_clock_info',\n",
       " 'gmtime',\n",
       " 'localtime',\n",
       " 'mktime',\n",
       " 'monotonic',\n",
       " 'monotonic_ns',\n",
       " 'perf_counter',\n",
       " 'perf_counter_ns',\n",
       " 'process_time',\n",
       " 'process_time_ns',\n",
       " 'sleep',\n",
       " 'strftime',\n",
       " 'strptime',\n",
       " 'struct_time',\n",
       " 'thread_time',\n",
       " 'thread_time_ns',\n",
       " 'time',\n",
       " 'time_ns',\n",
       " 'timezone',\n",
       " 'tzname']"
      ]
     },
     "execution_count": 23,
     "metadata": {},
     "output_type": "execute_result"
    }
   ],
   "source": [
    "import time\n",
    "dir(time)"
   ]
  },
  {
   "cell_type": "code",
   "execution_count": 26,
   "id": "dbdf574f-6440-45d9-8762-11b13836a68c",
   "metadata": {},
   "outputs": [
    {
     "name": "stdout",
     "output_type": "stream",
     "text": [
      "hello\n"
     ]
    }
   ],
   "source": [
    "time.sleep(3)\n",
    "print('hello')"
   ]
  },
  {
   "cell_type": "code",
   "execution_count": 32,
   "id": "a6326bc0-060a-4ec4-a96c-e10b718c4c81",
   "metadata": {},
   "outputs": [
    {
     "name": "stdout",
     "output_type": "stream",
     "text": [
      "0.02584552764892578\n"
     ]
    }
   ],
   "source": [
    "start_time=time.time()\n",
    "for i in range (200000):\n",
    " i*i\n",
    "print(time.time()-start_time)"
   ]
  },
  {
   "cell_type": "code",
   "execution_count": 33,
   "id": "4ed0b5e5-1095-4600-a73d-26cc85cc0aa9",
   "metadata": {},
   "outputs": [
    {
     "name": "stdout",
     "output_type": "stream",
     "text": [
      "0.06192135810852051\n"
     ]
    }
   ],
   "source": [
    "end_time=time.time()\n",
    "for i in range (400000):\n",
    " i*i\n",
    "print(time.time()-end_time)"
   ]
  },
  {
   "cell_type": "code",
   "execution_count": 30,
   "id": "18c011f3-e150-45e3-862c-69cbbb94b7da",
   "metadata": {},
   "outputs": [
    {
     "ename": "SyntaxError",
     "evalue": "invalid syntax (1419136417.py, line 1)",
     "output_type": "error",
     "traceback": [
      "\u001b[1;36m  Cell \u001b[1;32mIn[30], line 1\u001b[1;36m\u001b[0m\n\u001b[1;33m    time.print(\"current time is:\", 9:31)\u001b[0m\n\u001b[1;37m                                    ^\u001b[0m\n\u001b[1;31mSyntaxError\u001b[0m\u001b[1;31m:\u001b[0m invalid syntax\n"
     ]
    }
   ],
   "source": [
    "time.print(\"current time is:\", 9:31)"
   ]
  },
  {
   "cell_type": "code",
   "execution_count": 1,
   "id": "cda3105b-c56b-422d-bb9c-c683b2671713",
   "metadata": {},
   "outputs": [
    {
     "ename": "ModuleNotFoundError",
     "evalue": "No module named 'wordcloud'",
     "output_type": "error",
     "traceback": [
      "\u001b[1;31m---------------------------------------------------------------------------\u001b[0m",
      "\u001b[1;31mModuleNotFoundError\u001b[0m                       Traceback (most recent call last)",
      "Cell \u001b[1;32mIn[1], line 1\u001b[0m\n\u001b[1;32m----> 1\u001b[0m \u001b[38;5;28;01mimport\u001b[39;00m \u001b[38;5;21;01mwordcloud\u001b[39;00m\n",
      "\u001b[1;31mModuleNotFoundError\u001b[0m: No module named 'wordcloud'"
     ]
    }
   ],
   "source": [
    "import wordcloud"
   ]
  },
  {
   "cell_type": "code",
   "execution_count": null,
   "id": "3370f437-9a82-4343-b4ed-a6e305427a55",
   "metadata": {},
   "outputs": [],
   "source": []
  }
 ],
 "metadata": {
  "kernelspec": {
   "display_name": "Python 3 (ipykernel)",
   "language": "python",
   "name": "python3"
  },
  "language_info": {
   "codemirror_mode": {
    "name": "ipython",
    "version": 3
   },
   "file_extension": ".py",
   "mimetype": "text/x-python",
   "name": "python",
   "nbconvert_exporter": "python",
   "pygments_lexer": "ipython3",
   "version": "3.12.7"
  }
 },
 "nbformat": 4,
 "nbformat_minor": 5
}
