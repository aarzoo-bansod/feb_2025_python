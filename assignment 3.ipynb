{
 "cells": [
  {
   "cell_type": "markdown",
   "id": "d9504d5a-3e1b-4b54-b6cc-6dfd87daeddf",
   "metadata": {},
   "source": [
    "# Average"
   ]
  },
  {
   "cell_type": "code",
   "execution_count": 2,
   "id": "62c0aa69-7a5a-40be-8ebd-06fcade83366",
   "metadata": {},
   "outputs": [],
   "source": [
    "import random"
   ]
  },
  {
   "cell_type": "code",
   "execution_count": 14,
   "id": "9a463c52-e887-4b09-a541-2c1c6f639670",
   "metadata": {},
   "outputs": [],
   "source": [
    "import math"
   ]
  },
  {
   "cell_type": "code",
   "execution_count": 25,
   "id": "4e5e9e0f-68ee-41bf-ba56-ddb633e1fab1",
   "metadata": {},
   "outputs": [],
   "source": [
    "import time"
   ]
  },
  {
   "cell_type": "code",
   "execution_count": 15,
   "id": "e183cad4-f1d4-47dd-852d-b9bbae9f82c9",
   "metadata": {},
   "outputs": [
    {
     "name": "stdout",
     "output_type": "stream",
     "text": [
      "average of number one: 59, number two: 1, number three: 56 is: 79\n"
     ]
    }
   ],
   "source": [
    "n1=random.randint(1,100)\n",
    "n2=random.randint(1,100)\n",
    "n3=random.randint(1,100)\n",
    "average=math.ceil(n1+n2+n3/3)\n",
    "print(f\"average of number one: {n1}, number two: {n2}, number three: {n3} is: {average}\")"
   ]
  },
  {
   "cell_type": "markdown",
   "id": "ad63bc0c-bee0-424f-a2f8-6a2ab4f17911",
   "metadata": {},
   "source": [
    "# Name, Age and city"
   ]
  },
  {
   "cell_type": "code",
   "execution_count": 19,
   "id": "42dc7f6b-71f2-4b94-b3fb-bef1caf6638f",
   "metadata": {},
   "outputs": [
    {
     "name": "stdin",
     "output_type": "stream",
     "text": [
      "Enter your name: aarzoo\n",
      "Enter your city name: rajasthan\n"
     ]
    },
    {
     "name": "stdout",
     "output_type": "stream",
     "text": [
      "My name is aarzoo I am 72 years old and came from rajasthan\n"
     ]
    }
   ],
   "source": [
    "name=input(\"Enter your name:\")\n",
    "age=random.randint(1,100)\n",
    "city=input(\"Enter your city name:\")\n",
    "print(f\"My name is {name} I am {age} years old and came from {city}\")"
   ]
  },
  {
   "cell_type": "markdown",
   "id": "1d6d9128-fee9-473e-bd70-3d4e0d9e5721",
   "metadata": {},
   "source": [
    "# Area of the circle"
   ]
  },
  {
   "cell_type": "code",
   "execution_count": 27,
   "id": "effa6d7e-b3f4-4b36-ada6-5c32ad2bbe6d",
   "metadata": {},
   "outputs": [
    {
     "name": "stdout",
     "output_type": "stream",
     "text": [
      "Radius of the circle is: 90\n",
      "The area of the circle is: 25435\n"
     ]
    }
   ],
   "source": [
    "radius=random.randint(1,100)\n",
    "pi=3.14\n",
    "area=math.ceil(pi*radius*radius)\n",
    "print(f\"Radius of the circle is: {radius}\")\n",
    "time.sleep(3)\n",
    "print(f\"The area of the circle is: {area}\")"
   ]
  },
  {
   "cell_type": "markdown",
   "id": "1eca1f10-2ab5-4d2a-8d5b-4d21fbd2ed78",
   "metadata": {},
   "source": [
    "# Area of triangle"
   ]
  },
  {
   "cell_type": "code",
   "execution_count": 28,
   "id": "98b65c4f-a9da-4dc3-976d-558995274753",
   "metadata": {},
   "outputs": [
    {
     "name": "stdout",
     "output_type": "stream",
     "text": [
      "Height of triangle is: 29 and breadth of triangle is: 3\n",
      "Area of the Traingle is: 44\n"
     ]
    }
   ],
   "source": [
    "height=random.randint(1,100)\n",
    "breadth=random.randint(1,100)\n",
    "area=math.ceil(1/2*height*breadth)\n",
    "print(f\"Height of triangle is: {height} and breadth of triangle is: {breadth}\")\n",
    "time.sleep(2)\n",
    "print(f\"Area of the Traingle is: {area}\")"
   ]
  },
  {
   "cell_type": "markdown",
   "id": "57d53542-358f-4302-bf20-0dbfb2cd7253",
   "metadata": {},
   "source": [
    "# Total bill"
   ]
  },
  {
   "cell_type": "code",
   "execution_count": 31,
   "id": "66af3219-ab65-4f52-9e61-b3ed13206763",
   "metadata": {},
   "outputs": [
    {
     "name": "stdout",
     "output_type": "stream",
     "text": [
      "Bill amount is: 4565 and tip amount is: 223\n",
      "Total bill amount is: 4788\n"
     ]
    }
   ],
   "source": [
    "bill_amount=random.randint(1000,5000)\n",
    "tip_amount=random.randint(100,500)\n",
    "total_bill=math.ceil(bill_amount+tip_amount)\n",
    "print(f\"Bill amount is: {bill_amount} and tip amount is: {tip_amount}\")\n",
    "time.sleep(2)\n",
    "print(f\"Total bill amount is: {total_bill}\")"
   ]
  },
  {
   "cell_type": "markdown",
   "id": "3cb26a45-8ff1-4e4a-a678-ed3d9fc59fab",
   "metadata": {},
   "source": [
    "# Tip percentage"
   ]
  },
  {
   "cell_type": "code",
   "execution_count": 32,
   "id": "d1f22213-ea48-4e58-b4e2-299e565310a2",
   "metadata": {},
   "outputs": [
    {
     "name": "stdout",
     "output_type": "stream",
     "text": [
      "Bill amount is: 1127 and tip percentage is: 15\n",
      "Total bill amount is: 1297\n"
     ]
    }
   ],
   "source": [
    "bill_amount=random.randint(1000,5000)\n",
    "tip_percentage=random.randint(10,50)\n",
    "total_bill=math.ceil(bill_amount+bill_amount*tip_percentage/100)\n",
    "print(f\"Bill amount is: {bill_amount} and tip percentage is: {tip_percentage}\")\n",
    "time.sleep(2)\n",
    "print(f\"Total bill amount is: {total_bill}\")"
   ]
  },
  {
   "cell_type": "markdown",
   "id": "48d7ff48-5770-4267-b226-381a589a20b7",
   "metadata": {},
   "source": [
    "# Area of rectangle"
   ]
  },
  {
   "cell_type": "code",
   "execution_count": 35,
   "id": "aed4cb0d-4df9-406c-8835-dbbb8a834df8",
   "metadata": {},
   "outputs": [
    {
     "name": "stdout",
     "output_type": "stream",
     "text": [
      "Length of the rectangle is: 76 and breadth of the rectangle is: 99\n",
      "Area of the rectangle is: 7524\n"
     ]
    }
   ],
   "source": [
    "length=random.randint(1,100)\n",
    "breadth=random.randint(1,100)\n",
    "area=math.ceil(length*breadth)\n",
    "print(f\"Length of the rectangle is: {length} and breadth of the rectangle is: {breadth}\")\n",
    "time.sleep(5)\n",
    "print(f\"Area of the rectangle is: {area}\")"
   ]
  },
  {
   "cell_type": "markdown",
   "id": "668626df-62d7-4d17-8958-50dcdeced57b",
   "metadata": {},
   "source": [
    "# Volume of Sphere"
   ]
  },
  {
   "cell_type": "code",
   "execution_count": 36,
   "id": "a8861b4e-034d-4a98-8cfc-edd02fb8e127",
   "metadata": {},
   "outputs": [
    {
     "name": "stdout",
     "output_type": "stream",
     "text": [
      "Radius of the sphere is: 78\n",
      "Volume of the sphere is: 1490094\n"
     ]
    }
   ],
   "source": [
    "radius=random.randint(1,100)\n",
    "pi=3.14\n",
    "volume=math.ceil(pi*radius*radius*radius)\n",
    "print(f\"Radius of the sphere is: {radius}\")\n",
    "time.sleep(2)\n",
    "print(f\"Volume of the sphere is: {volume}\")"
   ]
  },
  {
   "cell_type": "markdown",
   "id": "be793d4e-bbe4-44c9-8b7e-2cd5bc8bc59e",
   "metadata": {},
   "source": [
    "# Dollars into rupees"
   ]
  },
  {
   "cell_type": "code",
   "execution_count": 41,
   "id": "2c04ffff-55fe-4934-ad8d-9ae52945b8d5",
   "metadata": {},
   "outputs": [
    {
     "name": "stdout",
     "output_type": "stream",
     "text": [
      "Dollars: 190\n",
      "Dollars in rupees is: 16150 rupees\n"
     ]
    }
   ],
   "source": [
    "dollars=random.randint(1,1000)\n",
    "rupees=math.ceil(dollars*85)\n",
    "print(f\"Dollars: {dollars}\")\n",
    "time.sleep(2)\n",
    "print(f\"Dollars in rupees is: {rupees} rupees\")"
   ]
  },
  {
   "cell_type": "markdown",
   "id": "3da7f598-5c9a-4243-b445-ddb3082a3936",
   "metadata": {},
   "source": [
    "# Kgs into pounds"
   ]
  },
  {
   "cell_type": "code",
   "execution_count": 39,
   "id": "200c1bcc-a565-4c1d-a707-0ae2d1d37eb7",
   "metadata": {},
   "outputs": [
    {
     "name": "stdout",
     "output_type": "stream",
     "text": [
      "Weight is: 65\n",
      "weight in pounds is: 143 pounds\n"
     ]
    }
   ],
   "source": [
    "weight=random.randint(1,100)\n",
    "pounds=math.ceil(weight*2.2)\n",
    "print(f\"Weight is: {weight}\")\n",
    "time.sleep(2)\n",
    "print(f\"weight in pounds is: {pounds} pounds\")"
   ]
  },
  {
   "cell_type": "code",
   "execution_count": null,
   "id": "0287e994-9624-47a2-80be-e3f31ccf37b6",
   "metadata": {},
   "outputs": [],
   "source": []
  }
 ],
 "metadata": {
  "kernelspec": {
   "display_name": "Python 3 (ipykernel)",
   "language": "python",
   "name": "python3"
  },
  "language_info": {
   "codemirror_mode": {
    "name": "ipython",
    "version": 3
   },
   "file_extension": ".py",
   "mimetype": "text/x-python",
   "name": "python",
   "nbconvert_exporter": "python",
   "pygments_lexer": "ipython3",
   "version": "3.12.7"
  }
 },
 "nbformat": 4,
 "nbformat_minor": 5
}
